{
  "nbformat": 4,
  "nbformat_minor": 0,
  "metadata": {
    "colab": {
      "name": "Lab2SparkSQL.ipynb",
      "provenance": [],
      "authorship_tag": "ABX9TyOPgvQR9MOr+qP3OUIiQl6E",
      "include_colab_link": true
    },
    "kernelspec": {
      "name": "python3",
      "display_name": "Python 3"
    }
  },
  "cells": [
    {
      "cell_type": "markdown",
      "metadata": {
        "id": "view-in-github",
        "colab_type": "text"
      },
      "source": [
        "<a href=\"https://colab.research.google.com/github/roytalari/SparkPySpark/blob/main/Lab2SparkSQL.ipynb\" target=\"_parent\"><img src=\"https://colab.research.google.com/assets/colab-badge.svg\" alt=\"Open In Colab\"/></a>"
      ]
    },
    {
      "cell_type": "markdown",
      "metadata": {
        "id": "sArJ00mz54Of"
      },
      "source": [
        "# PySpark - Spark SQL & Dataframes"
      ]
    },
    {
      "cell_type": "markdown",
      "metadata": {
        "id": "YMUlAiOA6eHZ"
      },
      "source": [
        "## Install Spark\n",
        "## Set Environment variables\n",
        "## Create a Spark Session\n"
      ]
    },
    {
      "cell_type": "code",
      "metadata": {
        "id": "1x3NNtE86SIN"
      },
      "source": [
        "!apt-get install openjdk-8-jdk-headless -qq > /dev/null\n",
        "!wget -q https://archive.apache.org/dist/spark/spark-2.4.3/spark-2.4.3-bin-hadoop2.6.tgz\n",
        "!tar -xvf spark-2.4.3-bin-hadoop2.6.tgz\n",
        "!pip install -q findspark\n",
        "import os\n",
        "os.environ[\"JAVA_HOME\"] = \"/usr/lib/jvm/java-8-openjdk-amd64\"\n",
        "os.environ[\"SPARK_HOME\"] = \"/content/spark-2.4.3-bin-hadoop2.6\"\n",
        "import findspark\n",
        "findspark.init()\n",
        "from pyspark.sql import SparkSession\n",
        "spark = SparkSession.builder.master(\"local[*]\").getOrCreate()"
      ],
      "execution_count": null,
      "outputs": []
    },
    {
      "cell_type": "markdown",
      "metadata": {
        "id": "JKfOpaKF63U3"
      },
      "source": [
        "# Test Spark"
      ]
    },
    {
      "cell_type": "code",
      "metadata": {
        "id": "oBJBWnLn6u4B",
        "outputId": "351cdd6c-547c-4d65-b790-72b3af6bb385",
        "colab": {
          "base_uri": "https://localhost:8080/",
          "height": 190
        }
      },
      "source": [
        "df = spark.createDataFrame([{\"Google\": \"Colab\",\"Spark\":\"Scala\"},{\"Google\": \"Runbook\",\"Spark\":\"PySpark\"}])\n",
        "df.show()"
      ],
      "execution_count": 4,
      "outputs": [
        {
          "output_type": "stream",
          "text": [
            "/content/spark-2.4.3-bin-hadoop2.6/python/pyspark/sql/session.py:346: UserWarning: inferring schema from dict is deprecated,please use pyspark.sql.Row instead\n",
            "  warnings.warn(\"inferring schema from dict is deprecated,\"\n"
          ],
          "name": "stderr"
        },
        {
          "output_type": "stream",
          "text": [
            "+-------+-------+\n",
            "| Google|  Spark|\n",
            "+-------+-------+\n",
            "|  Colab|  Scala|\n",
            "|Runbook|PySpark|\n",
            "+-------+-------+\n",
            "\n"
          ],
          "name": "stdout"
        }
      ]
    },
    {
      "cell_type": "markdown",
      "metadata": {
        "id": "6AbgJIN67O50"
      },
      "source": [
        "## COPY A DATA FILE TO YOUR LOCAL COLAB ENVIRONMENT"
      ]
    },
    {
      "cell_type": "code",
      "metadata": {
        "id": "jW7DeIYD7A4K",
        "outputId": "408d79e7-3171-4094-fe6b-621e4560bf0c",
        "colab": {
          "base_uri": "https://localhost:8080/",
          "height": 204
        }
      },
      "source": [
        "!wget https://raw.githubusercontent.com/futurexskill/bigdata/master/retailstore.csv"
      ],
      "execution_count": 5,
      "outputs": [
        {
          "output_type": "stream",
          "text": [
            "--2020-10-24 20:24:46--  https://raw.githubusercontent.com/futurexskill/bigdata/master/retailstore.csv\n",
            "Resolving raw.githubusercontent.com (raw.githubusercontent.com)... 151.101.0.133, 151.101.64.133, 151.101.128.133, ...\n",
            "Connecting to raw.githubusercontent.com (raw.githubusercontent.com)|151.101.0.133|:443... connected.\n",
            "HTTP request sent, awaiting response... 200 OK\n",
            "Length: 279 [text/plain]\n",
            "Saving to: ‘retailstore.csv’\n",
            "\n",
            "retailstore.csv     100%[===================>]     279  --.-KB/s    in 0s      \n",
            "\n",
            "2020-10-24 20:24:46 (5.41 MB/s) - ‘retailstore.csv’ saved [279/279]\n",
            "\n"
          ],
          "name": "stdout"
        }
      ]
    },
    {
      "cell_type": "markdown",
      "metadata": {
        "id": "fPey2zm-7bsZ"
      },
      "source": [
        "# Check if the file is copied"
      ]
    },
    {
      "cell_type": "code",
      "metadata": {
        "id": "MGvPdpgJ7Wg1",
        "outputId": "7b9ca627-2998-401f-a10e-322076d538fb",
        "colab": {
          "base_uri": "https://localhost:8080/",
          "height": 51
        }
      },
      "source": [
        "!ls"
      ],
      "execution_count": 6,
      "outputs": [
        {
          "output_type": "stream",
          "text": [
            "retailstore.csv  spark-2.4.3-bin-hadoop2.6\n",
            "sample_data\t spark-2.4.3-bin-hadoop2.6.tgz\n"
          ],
          "name": "stdout"
        }
      ]
    },
    {
      "cell_type": "markdown",
      "metadata": {
        "id": "G-0-HGNH7gUW"
      },
      "source": [
        "# **  DataFrame **"
      ]
    },
    {
      "cell_type": "markdown",
      "metadata": {
        "id": "j65LRghK8BvR"
      },
      "source": [
        "# Read the CSV file into a DataFrame"
      ]
    },
    {
      "cell_type": "code",
      "metadata": {
        "id": "-VyXIuSe7Xnd"
      },
      "source": [
        "customerDF = spark.read.csv(\"retailstore.csv\", header = \"True\")"
      ],
      "execution_count": 7,
      "outputs": []
    },
    {
      "cell_type": "code",
      "metadata": {
        "id": "yE54WF8S8SM2",
        "outputId": "50812542-74b3-4dd9-d375-c75f49cef308",
        "colab": {
          "base_uri": "https://localhost:8080/",
          "height": 34
        }
      },
      "source": [
        "type(customerDF)"
      ],
      "execution_count": 7,
      "outputs": [
        {
          "output_type": "execute_result",
          "data": {
            "text/plain": [
              "pyspark.sql.dataframe.DataFrame"
            ]
          },
          "metadata": {
            "tags": []
          },
          "execution_count": 7
        }
      ]
    },
    {
      "cell_type": "markdown",
      "metadata": {
        "id": "mR9go3Gm8XW9"
      },
      "source": [
        "# Print the dataset"
      ]
    },
    {
      "cell_type": "code",
      "metadata": {
        "id": "Fku6D0sa8U-d",
        "outputId": "e8cc8178-d740-462f-c211-a0b3b4087119",
        "colab": {
          "base_uri": "https://localhost:8080/",
          "height": 272
        }
      },
      "source": [
        "customerDF.show()"
      ],
      "execution_count": 8,
      "outputs": [
        {
          "output_type": "stream",
          "text": [
            "+----+------+------+-------+---------+\n",
            "| Age|Salary|Gender|Country|Purchased|\n",
            "+----+------+------+-------+---------+\n",
            "|  18| 20000|  Male|Germany|        N|\n",
            "|  19| 22000|Female| France|        N|\n",
            "|  20| 24000|Female|England|        N|\n",
            "|  21|  null|  Male|England|        N|\n",
            "|  22| 50000|  Male| France|        Y|\n",
            "|  23| 35000|Female|England|        N|\n",
            "|  24|  null|  Male|Germany|        N|\n",
            "|  25| 32000|Female| France|        Y|\n",
            "|null| 35000|  Male|Germany|        N|\n",
            "|  27| 37000|Female| France|        N|\n",
            "+----+------+------+-------+---------+\n",
            "\n"
          ],
          "name": "stdout"
        }
      ]
    },
    {
      "cell_type": "code",
      "metadata": {
        "id": "cMsPAZRM8dWN",
        "outputId": "127e88f2-6770-408c-fd5e-e0cdbbb0cbaa",
        "colab": {
          "base_uri": "https://localhost:8080/",
          "height": 204
        }
      },
      "source": [
        "customerDF.show(5)"
      ],
      "execution_count": 9,
      "outputs": [
        {
          "output_type": "stream",
          "text": [
            "+---+------+------+-------+---------+\n",
            "|Age|Salary|Gender|Country|Purchased|\n",
            "+---+------+------+-------+---------+\n",
            "| 18| 20000|  Male|Germany|        N|\n",
            "| 19| 22000|Female| France|        N|\n",
            "| 20| 24000|Female|England|        N|\n",
            "| 21|  null|  Male|England|        N|\n",
            "| 22| 50000|  Male| France|        Y|\n",
            "+---+------+------+-------+---------+\n",
            "only showing top 5 rows\n",
            "\n"
          ],
          "name": "stdout"
        }
      ]
    },
    {
      "cell_type": "markdown",
      "metadata": {
        "id": "o4JbrhKx8sYP"
      },
      "source": [
        "# Statiscal Information about the dataframe  gives mean, median of mainly numeric columns"
      ]
    },
    {
      "cell_type": "code",
      "metadata": {
        "id": "L3CHVh1K8nNv",
        "outputId": "6c4e2db6-4aa5-4bf9-cd92-25bb580ace53",
        "colab": {
          "base_uri": "https://localhost:8080/",
          "height": 187
        }
      },
      "source": [
        "customerDF.describe().show()"
      ],
      "execution_count": 10,
      "outputs": [
        {
          "output_type": "stream",
          "text": [
            "+-------+-----------------+-----------------+------+-------+---------+\n",
            "|summary|              Age|           Salary|Gender|Country|Purchased|\n",
            "+-------+-----------------+-----------------+------+-------+---------+\n",
            "|  count|                9|                8|    10|     10|       10|\n",
            "|   mean|22.11111111111111|          31875.0|  null|   null|     null|\n",
            "| stddev|2.934469476943168|9818.895777311942|  null|   null|     null|\n",
            "|    min|               18|            20000|Female|England|        N|\n",
            "|    max|               27|            50000|  Male|Germany|        Y|\n",
            "+-------+-----------------+-----------------+------+-------+---------+\n",
            "\n"
          ],
          "name": "stdout"
        }
      ]
    },
    {
      "cell_type": "code",
      "metadata": {
        "id": "o6zBPdOB9GzT",
        "outputId": "55aa1739-2a1b-4099-a5dc-35b060055473",
        "colab": {
          "base_uri": "https://localhost:8080/",
          "height": 153
        }
      },
      "source": [
        "customerDF.groupBy(\"country\").count().show()"
      ],
      "execution_count": 11,
      "outputs": [
        {
          "output_type": "stream",
          "text": [
            "+-------+-----+\n",
            "|country|count|\n",
            "+-------+-----+\n",
            "|Germany|    3|\n",
            "| France|    4|\n",
            "|England|    3|\n",
            "+-------+-----+\n",
            "\n"
          ],
          "name": "stdout"
        }
      ]
    },
    {
      "cell_type": "code",
      "metadata": {
        "id": "bYgGt85q9VDc",
        "outputId": "ac9d75d9-bb41-499e-b6da-9275f761b545",
        "colab": {
          "base_uri": "https://localhost:8080/",
          "height": 136
        }
      },
      "source": [
        "customerDF.groupby(\"gender\").count().show()"
      ],
      "execution_count": 12,
      "outputs": [
        {
          "output_type": "stream",
          "text": [
            "+------+-----+\n",
            "|gender|count|\n",
            "+------+-----+\n",
            "|Female|    5|\n",
            "|  Male|    5|\n",
            "+------+-----+\n",
            "\n"
          ],
          "name": "stdout"
        }
      ]
    },
    {
      "cell_type": "markdown",
      "metadata": {
        "id": "DbFc9CN49oh-"
      },
      "source": [
        "# Running SQL Queries programmatically"
      ]
    },
    {
      "cell_type": "markdown",
      "metadata": {
        "id": "Sz6cymir9vi-"
      },
      "source": [
        "### Create a temporary table"
      ]
    },
    {
      "cell_type": "code",
      "metadata": {
        "id": "oSqqVzJ79ipv"
      },
      "source": [
        "customerDF.createOrReplaceTempView(\"customer\")"
      ],
      "execution_count": 13,
      "outputs": []
    },
    {
      "cell_type": "markdown",
      "metadata": {
        "id": "eniBrJQ597KR"
      },
      "source": [
        "# Fetch all records from the table using a SQL query "
      ]
    },
    {
      "cell_type": "code",
      "metadata": {
        "id": "ADRMwRSm94Da"
      },
      "source": [
        "results = spark.sql(\"select * from customer\")"
      ],
      "execution_count": 14,
      "outputs": []
    },
    {
      "cell_type": "code",
      "metadata": {
        "id": "nN6CLVQU-GSb",
        "outputId": "4a0f3624-370e-4e7d-9cc7-cd0d42ccae10",
        "colab": {
          "base_uri": "https://localhost:8080/",
          "height": 34
        }
      },
      "source": [
        "type(results)"
      ],
      "execution_count": 15,
      "outputs": [
        {
          "output_type": "execute_result",
          "data": {
            "text/plain": [
              "pyspark.sql.dataframe.DataFrame"
            ]
          },
          "metadata": {
            "tags": []
          },
          "execution_count": 15
        }
      ]
    },
    {
      "cell_type": "code",
      "metadata": {
        "id": "nIngr15Y-RL0",
        "outputId": "116fe9fa-64fc-445f-e461-1312cf91fdc1",
        "colab": {
          "base_uri": "https://localhost:8080/",
          "height": 272
        }
      },
      "source": [
        "results.show()"
      ],
      "execution_count": 16,
      "outputs": [
        {
          "output_type": "stream",
          "text": [
            "+----+------+------+-------+---------+\n",
            "| Age|Salary|Gender|Country|Purchased|\n",
            "+----+------+------+-------+---------+\n",
            "|  18| 20000|  Male|Germany|        N|\n",
            "|  19| 22000|Female| France|        N|\n",
            "|  20| 24000|Female|England|        N|\n",
            "|  21|  null|  Male|England|        N|\n",
            "|  22| 50000|  Male| France|        Y|\n",
            "|  23| 35000|Female|England|        N|\n",
            "|  24|  null|  Male|Germany|        N|\n",
            "|  25| 32000|Female| France|        Y|\n",
            "|null| 35000|  Male|Germany|        N|\n",
            "|  27| 37000|Female| France|        N|\n",
            "+----+------+------+-------+---------+\n",
            "\n"
          ],
          "name": "stdout"
        }
      ]
    },
    {
      "cell_type": "markdown",
      "metadata": {
        "id": "P57-OB_N-bbd"
      },
      "source": [
        "# **Spark Dataframe** \n",
        "\n",
        "## The sql function on a SparkSession enables applications to run SQL queries prgramtically and return the results as a Dataframe."
      ]
    },
    {
      "cell_type": "code",
      "metadata": {
        "id": "GXFGgpgg-WSd",
        "outputId": "2252e104-df94-4c29-e935-0c8711fa7936",
        "colab": {
          "base_uri": "https://localhost:8080/",
          "height": 170
        }
      },
      "source": [
        "new_results = spark.sql(\"select * from customer where age>22\").show()"
      ],
      "execution_count": 17,
      "outputs": [
        {
          "output_type": "stream",
          "text": [
            "+---+------+------+-------+---------+\n",
            "|Age|Salary|Gender|Country|Purchased|\n",
            "+---+------+------+-------+---------+\n",
            "| 23| 35000|Female|England|        N|\n",
            "| 24|  null|  Male|Germany|        N|\n",
            "| 25| 32000|Female| France|        Y|\n",
            "| 27| 37000|Female| France|        N|\n",
            "+---+------+------+-------+---------+\n",
            "\n"
          ],
          "name": "stdout"
        }
      ]
    },
    {
      "cell_type": "code",
      "metadata": {
        "id": "f7VAnJR62R83",
        "outputId": "8ef85129-c832-43c3-d5a6-76ba4040bc27",
        "colab": {
          "base_uri": "https://localhost:8080/",
          "height": 170
        }
      },
      "source": [
        "new_results = spark.sql(\"select * from customer where age>22\").select(\"salary\").show()"
      ],
      "execution_count": 18,
      "outputs": [
        {
          "output_type": "stream",
          "text": [
            "+------+\n",
            "|salary|\n",
            "+------+\n",
            "| 35000|\n",
            "|  null|\n",
            "| 32000|\n",
            "| 37000|\n",
            "+------+\n",
            "\n"
          ],
          "name": "stdout"
        }
      ]
    },
    {
      "cell_type": "markdown",
      "metadata": {
        "id": "qCb0zXqwWW2L"
      },
      "source": [
        "### We can apply filter method to filter data"
      ]
    },
    {
      "cell_type": "code",
      "metadata": {
        "id": "bO50Sa6WR7HS",
        "outputId": "853a8a9f-2cb9-48a0-d4a3-d3fdd5ac1e6b",
        "colab": {
          "base_uri": "https://localhost:8080/",
          "height": 221
        }
      },
      "source": [
        "customerDF.filter(\"salary > 20000\").show()"
      ],
      "execution_count": 19,
      "outputs": [
        {
          "output_type": "stream",
          "text": [
            "+----+------+------+-------+---------+\n",
            "| Age|Salary|Gender|Country|Purchased|\n",
            "+----+------+------+-------+---------+\n",
            "|  19| 22000|Female| France|        N|\n",
            "|  20| 24000|Female|England|        N|\n",
            "|  22| 50000|  Male| France|        Y|\n",
            "|  23| 35000|Female|England|        N|\n",
            "|  25| 32000|Female| France|        Y|\n",
            "|null| 35000|  Male|Germany|        N|\n",
            "|  27| 37000|Female| France|        N|\n",
            "+----+------+------+-------+---------+\n",
            "\n"
          ],
          "name": "stdout"
        }
      ]
    },
    {
      "cell_type": "markdown",
      "metadata": {
        "id": "V_leN4lGWfI8"
      },
      "source": [
        "### Group By gender find average salary and max age"
      ]
    },
    {
      "cell_type": "code",
      "metadata": {
        "id": "rMYpC214WJpf",
        "outputId": "df153769-3da9-4e85-949c-70dd18e534b5",
        "colab": {
          "base_uri": "https://localhost:8080/",
          "height": 136
        }
      },
      "source": [
        "customerDF.groupBy(\"gender\").agg({\"salary\":\"average\", \"age\":\"max\"}).show()"
      ],
      "execution_count": 21,
      "outputs": [
        {
          "output_type": "stream",
          "text": [
            "+------+-----------+--------+\n",
            "|gender|avg(salary)|max(age)|\n",
            "+------+-----------+--------+\n",
            "|Female|    30000.0|      27|\n",
            "|  Male|    35000.0|      24|\n",
            "+------+-----------+--------+\n",
            "\n"
          ],
          "name": "stdout"
        }
      ]
    },
    {
      "cell_type": "markdown",
      "metadata": {
        "id": "9aGwTRtl4qaF"
      },
      "source": [
        "### Adding new column"
      ]
    },
    {
      "cell_type": "code",
      "metadata": {
        "id": "h5xJ8B0lW_r0",
        "outputId": "559906e1-11b2-4cc8-ca63-b167a43fae3e",
        "colab": {
          "base_uri": "https://localhost:8080/",
          "height": 272
        }
      },
      "source": [
        "customerDF.withColumn('doublesalary', customerDF['salary']*2).show()"
      ],
      "execution_count": 22,
      "outputs": [
        {
          "output_type": "stream",
          "text": [
            "+----+------+------+-------+---------+------------+\n",
            "| Age|Salary|Gender|Country|Purchased|doublesalary|\n",
            "+----+------+------+-------+---------+------------+\n",
            "|  18| 20000|  Male|Germany|        N|     40000.0|\n",
            "|  19| 22000|Female| France|        N|     44000.0|\n",
            "|  20| 24000|Female|England|        N|     48000.0|\n",
            "|  21|  null|  Male|England|        N|        null|\n",
            "|  22| 50000|  Male| France|        Y|    100000.0|\n",
            "|  23| 35000|Female|England|        N|     70000.0|\n",
            "|  24|  null|  Male|Germany|        N|        null|\n",
            "|  25| 32000|Female| France|        Y|     64000.0|\n",
            "|null| 35000|  Male|Germany|        N|     70000.0|\n",
            "|  27| 37000|Female| France|        N|     74000.0|\n",
            "+----+------+------+-------+---------+------------+\n",
            "\n"
          ],
          "name": "stdout"
        }
      ]
    },
    {
      "cell_type": "markdown",
      "metadata": {
        "id": "ZZATNkZA5W1s"
      },
      "source": [
        "### Renaming a column "
      ]
    },
    {
      "cell_type": "code",
      "metadata": {
        "id": "skyYHN3F5Mde",
        "outputId": "7137ab48-e515-47f0-9b52-c5f1dc7310f6",
        "colab": {
          "base_uri": "https://localhost:8080/",
          "height": 272
        }
      },
      "source": [
        "customerDF.withColumnRenamed('salary','income').show()"
      ],
      "execution_count": 23,
      "outputs": [
        {
          "output_type": "stream",
          "text": [
            "+----+------+------+-------+---------+\n",
            "| Age|income|Gender|Country|Purchased|\n",
            "+----+------+------+-------+---------+\n",
            "|  18| 20000|  Male|Germany|        N|\n",
            "|  19| 22000|Female| France|        N|\n",
            "|  20| 24000|Female|England|        N|\n",
            "|  21|  null|  Male|England|        N|\n",
            "|  22| 50000|  Male| France|        Y|\n",
            "|  23| 35000|Female|England|        N|\n",
            "|  24|  null|  Male|Germany|        N|\n",
            "|  25| 32000|Female| France|        Y|\n",
            "|null| 35000|  Male|Germany|        N|\n",
            "|  27| 37000|Female| France|        N|\n",
            "+----+------+------+-------+---------+\n",
            "\n"
          ],
          "name": "stdout"
        }
      ]
    },
    {
      "cell_type": "code",
      "metadata": {
        "id": "dFklDVam5lML",
        "outputId": "0b6154b2-9d8e-412f-89e4-9e6ff968d1ff",
        "colab": {
          "base_uri": "https://localhost:8080/",
          "height": 272
        }
      },
      "source": [
        "customerDF.show()"
      ],
      "execution_count": 24,
      "outputs": [
        {
          "output_type": "stream",
          "text": [
            "+----+------+------+-------+---------+\n",
            "| Age|Salary|Gender|Country|Purchased|\n",
            "+----+------+------+-------+---------+\n",
            "|  18| 20000|  Male|Germany|        N|\n",
            "|  19| 22000|Female| France|        N|\n",
            "|  20| 24000|Female|England|        N|\n",
            "|  21|  null|  Male|England|        N|\n",
            "|  22| 50000|  Male| France|        Y|\n",
            "|  23| 35000|Female|England|        N|\n",
            "|  24|  null|  Male|Germany|        N|\n",
            "|  25| 32000|Female| France|        Y|\n",
            "|null| 35000|  Male|Germany|        N|\n",
            "|  27| 37000|Female| France|        N|\n",
            "+----+------+------+-------+---------+\n",
            "\n"
          ],
          "name": "stdout"
        }
      ]
    },
    {
      "cell_type": "markdown",
      "metadata": {
        "id": "F4DfsDSr6nch"
      },
      "source": [
        "#### Drop null values with na\n",
        "\n",
        "data cleasning operations"
      ]
    },
    {
      "cell_type": "code",
      "metadata": {
        "id": "DGU9hllm5o0a",
        "outputId": "c51e0d7a-909e-4f4b-d66f-996667ab93bb",
        "colab": {
          "base_uri": "https://localhost:8080/",
          "height": 221
        }
      },
      "source": [
        "customerDF.na.drop().show()"
      ],
      "execution_count": 25,
      "outputs": [
        {
          "output_type": "stream",
          "text": [
            "+---+------+------+-------+---------+\n",
            "|Age|Salary|Gender|Country|Purchased|\n",
            "+---+------+------+-------+---------+\n",
            "| 18| 20000|  Male|Germany|        N|\n",
            "| 19| 22000|Female| France|        N|\n",
            "| 20| 24000|Female|England|        N|\n",
            "| 22| 50000|  Male| France|        Y|\n",
            "| 23| 35000|Female|England|        N|\n",
            "| 25| 32000|Female| France|        Y|\n",
            "| 27| 37000|Female| France|        N|\n",
            "+---+------+------+-------+---------+\n",
            "\n"
          ],
          "name": "stdout"
        }
      ]
    },
    {
      "cell_type": "code",
      "metadata": {
        "id": "CmQJFIEo62_m",
        "outputId": "ae2cc92c-cc8f-4770-8c7b-4f63876c3562",
        "colab": {
          "base_uri": "https://localhost:8080/",
          "height": 272
        }
      },
      "source": [
        "customerDF.show()"
      ],
      "execution_count": 26,
      "outputs": [
        {
          "output_type": "stream",
          "text": [
            "+----+------+------+-------+---------+\n",
            "| Age|Salary|Gender|Country|Purchased|\n",
            "+----+------+------+-------+---------+\n",
            "|  18| 20000|  Male|Germany|        N|\n",
            "|  19| 22000|Female| France|        N|\n",
            "|  20| 24000|Female|England|        N|\n",
            "|  21|  null|  Male|England|        N|\n",
            "|  22| 50000|  Male| France|        Y|\n",
            "|  23| 35000|Female|England|        N|\n",
            "|  24|  null|  Male|Germany|        N|\n",
            "|  25| 32000|Female| France|        Y|\n",
            "|null| 35000|  Male|Germany|        N|\n",
            "|  27| 37000|Female| France|        N|\n",
            "+----+------+------+-------+---------+\n",
            "\n"
          ],
          "name": "stdout"
        }
      ]
    },
    {
      "cell_type": "markdown",
      "metadata": {
        "id": "1TH2QN0u7OTA"
      },
      "source": [
        "# Explore other methods in pyspark documentation! \n",
        "*Thank you*"
      ]
    },
    {
      "cell_type": "code",
      "metadata": {
        "id": "Xfo0Z_nv66ZP"
      },
      "source": [
        ""
      ],
      "execution_count": null,
      "outputs": []
    }
  ]
}