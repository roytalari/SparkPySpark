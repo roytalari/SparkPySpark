{
  "nbformat": 4,
  "nbformat_minor": 0,
  "metadata": {
    "colab": {
      "name": "Lab3pySparkUDF&Joins.ipynb",
      "provenance": [],
      "collapsed_sections": [],
      "authorship_tag": "ABX9TyNXq5k8JOTohGpR8ZBQQQuO",
      "include_colab_link": true
    },
    "kernelspec": {
      "name": "python3",
      "display_name": "Python 3"
    }
  },
  "cells": [
    {
      "cell_type": "markdown",
      "metadata": {
        "id": "view-in-github",
        "colab_type": "text"
      },
      "source": [
        "<a href=\"https://colab.research.google.com/github/roytalari/SparkPySpark/blob/main/Lab3pySparkUDF%26Joins.ipynb\" target=\"_parent\"><img src=\"https://colab.research.google.com/assets/colab-badge.svg\" alt=\"Open In Colab\"/></a>"
      ]
    },
    {
      "cell_type": "markdown",
      "metadata": {
        "id": "IxxkALjn8V8e"
      },
      "source": [
        "## Install Spark\n",
        "## Set Environment variables\n",
        "## Create a Spark Session"
      ]
    },
    {
      "cell_type": "code",
      "metadata": {
        "id": "P9WMRiVl8JqG"
      },
      "source": [
        "!apt-get install openjdk-8-jdk-headless -qq > /dev/null\n",
        "!wget -q https://archive.apache.org/dist/spark/spark-2.4.3/spark-2.4.3-bin-hadoop2.6.tgz\n",
        "!tar -xvf spark-2.4.3-bin-hadoop2.6.tgz\n",
        "!pip install -q findspark\n",
        "import os\n",
        "os.environ[\"JAVA_HOME\"] = \"/usr/lib/jvm/java-8-openjdk-amd64\"\n",
        "os.environ[\"SPARK_HOME\"] = \"/content/spark-2.4.3-bin-hadoop2.6\"\n",
        "import findspark\n",
        "findspark.init()\n",
        "from pyspark.sql import SparkSession\n",
        "spark = SparkSession.builder.master(\"local[*]\").getOrCreate()"
      ],
      "execution_count": null,
      "outputs": []
    },
    {
      "cell_type": "markdown",
      "metadata": {
        "id": "XopqEo798jvJ"
      },
      "source": [
        "# Test Spark with dummy DF"
      ]
    },
    {
      "cell_type": "code",
      "metadata": {
        "id": "B7CchfUB8TYk",
        "outputId": "d3cadf3f-6b53-4f78-85e8-f2b8ae3f295d",
        "colab": {
          "base_uri": "https://localhost:8080/",
          "height": 190
        }
      },
      "source": [
        "df = spark.createDataFrame([{\"Google\": \"Colab\",\"Spark\":\"Scala\"},{\"Google\": \"Runbook\",\"Spark\":\"PySpark\"}])\n",
        "df.show()"
      ],
      "execution_count": 3,
      "outputs": [
        {
          "output_type": "stream",
          "text": [
            "/content/spark-2.4.3-bin-hadoop2.6/python/pyspark/sql/session.py:346: UserWarning: inferring schema from dict is deprecated,please use pyspark.sql.Row instead\n",
            "  warnings.warn(\"inferring schema from dict is deprecated,\"\n"
          ],
          "name": "stderr"
        },
        {
          "output_type": "stream",
          "text": [
            "+-------+-------+\n",
            "| Google|  Spark|\n",
            "+-------+-------+\n",
            "|  Colab|  Scala|\n",
            "|Runbook|PySpark|\n",
            "+-------+-------+\n",
            "\n"
          ],
          "name": "stdout"
        }
      ]
    },
    {
      "cell_type": "markdown",
      "metadata": {
        "id": "fMkCkJ7C_sOc"
      },
      "source": [
        "## COPY A DATA FILE TO YOUR LOCAL COLAB ENVIRONMENT"
      ]
    },
    {
      "cell_type": "code",
      "metadata": {
        "id": "XTYmzoI0_m5J",
        "outputId": "3e65be50-7b70-4700-8884-e2a423956a85",
        "colab": {
          "base_uri": "https://localhost:8080/",
          "height": 204
        }
      },
      "source": [
        "!wget https://raw.githubusercontent.com/futurexskill/bigdata/master/store_customers.csv"
      ],
      "execution_count": 4,
      "outputs": [
        {
          "output_type": "stream",
          "text": [
            "--2020-10-24 23:46:07--  https://raw.githubusercontent.com/futurexskill/bigdata/master/store_customers.csv\n",
            "Resolving raw.githubusercontent.com (raw.githubusercontent.com)... 151.101.0.133, 151.101.64.133, 151.101.128.133, ...\n",
            "Connecting to raw.githubusercontent.com (raw.githubusercontent.com)|151.101.0.133|:443... connected.\n",
            "HTTP request sent, awaiting response... 200 OK\n",
            "Length: 199132 (194K) [text/plain]\n",
            "Saving to: ‘store_customers.csv’\n",
            "\n",
            "\rstore_customers.csv   0%[                    ]       0  --.-KB/s               \rstore_customers.csv 100%[===================>] 194.46K  --.-KB/s    in 0.05s   \n",
            "\n",
            "2020-10-24 23:46:07 (4.02 MB/s) - ‘store_customers.csv’ saved [199132/199132]\n",
            "\n"
          ],
          "name": "stdout"
        }
      ]
    },
    {
      "cell_type": "markdown",
      "metadata": {
        "id": "nYHg6F6lAWr9"
      },
      "source": [
        "## Check if the files are copied"
      ]
    },
    {
      "cell_type": "code",
      "metadata": {
        "id": "H9nLfZi1AUwc",
        "outputId": "c1206bcc-c3aa-44c4-ce01-f468a3caf10a",
        "colab": {
          "base_uri": "https://localhost:8080/",
          "height": 51
        }
      },
      "source": [
        "!ls"
      ],
      "execution_count": 5,
      "outputs": [
        {
          "output_type": "stream",
          "text": [
            "sample_data\t\t   spark-2.4.3-bin-hadoop2.6.tgz\n",
            "spark-2.4.3-bin-hadoop2.6  store_customers.csv\n"
          ],
          "name": "stdout"
        }
      ]
    },
    {
      "cell_type": "markdown",
      "metadata": {
        "id": "KYVzHy6nA0cD"
      },
      "source": [
        "# bring the store_transaction file to your environment"
      ]
    },
    {
      "cell_type": "code",
      "metadata": {
        "id": "I0n7wzYFAiZe",
        "outputId": "9fbd6175-7c64-431f-98fb-297df10e5676",
        "colab": {
          "base_uri": "https://localhost:8080/",
          "height": 204
        }
      },
      "source": [
        "!wget https://raw.githubusercontent.com/futurexskill/bigdata/master/store_transactions.csv"
      ],
      "execution_count": 6,
      "outputs": [
        {
          "output_type": "stream",
          "text": [
            "--2020-10-24 23:48:58--  https://raw.githubusercontent.com/futurexskill/bigdata/master/store_transactions.csv\n",
            "Resolving raw.githubusercontent.com (raw.githubusercontent.com)... 151.101.0.133, 151.101.64.133, 151.101.128.133, ...\n",
            "Connecting to raw.githubusercontent.com (raw.githubusercontent.com)|151.101.0.133|:443... connected.\n",
            "HTTP request sent, awaiting response... 200 OK\n",
            "Length: 7257374 (6.9M) [text/plain]\n",
            "Saving to: ‘store_transactions.csv’\n",
            "\n",
            "store_transactions. 100%[===================>]   6.92M  15.5MB/s    in 0.4s    \n",
            "\n",
            "2020-10-24 23:48:58 (15.5 MB/s) - ‘store_transactions.csv’ saved [7257374/7257374]\n",
            "\n"
          ],
          "name": "stdout"
        }
      ]
    },
    {
      "cell_type": "code",
      "metadata": {
        "id": "Wl8PM74oA-Z5",
        "outputId": "8dd29145-5e85-46d2-a9bb-9c98b33197fc",
        "colab": {
          "base_uri": "https://localhost:8080/",
          "height": 68
        }
      },
      "source": [
        "!ls"
      ],
      "execution_count": 7,
      "outputs": [
        {
          "output_type": "stream",
          "text": [
            "sample_data\t\t       store_customers.csv\n",
            "spark-2.4.3-bin-hadoop2.6      store_transactions.csv\n",
            "spark-2.4.3-bin-hadoop2.6.tgz\n"
          ],
          "name": "stdout"
        }
      ]
    },
    {
      "cell_type": "markdown",
      "metadata": {
        "id": "hPOXU6c_DOSr"
      },
      "source": [
        "Create DataFrames "
      ]
    },
    {
      "cell_type": "code",
      "metadata": {
        "id": "JvUqx1xOA_sg"
      },
      "source": [
        "customerDF = spark.read.csv(\"store_customers.csv\", header= True)"
      ],
      "execution_count": 9,
      "outputs": []
    },
    {
      "cell_type": "markdown",
      "metadata": {
        "id": "ffbsFYZeELoH"
      },
      "source": [
        "# display data in DF"
      ]
    },
    {
      "cell_type": "code",
      "metadata": {
        "id": "0FRTMJcZDmkd",
        "outputId": "6ad9dd56-3b03-456e-a6c7-1eb47bc3874b",
        "colab": {
          "base_uri": "https://localhost:8080/",
          "height": 459
        }
      },
      "source": [
        "customerDF.show()"
      ],
      "execution_count": 10,
      "outputs": [
        {
          "output_type": "stream",
          "text": [
            "+----------+---+------+------+-------+\n",
            "|CustomerID|Age|Salary|Gender|Country|\n",
            "+----------+---+------+------+-------+\n",
            "|         1| 72| 20000|  Male|Germany|\n",
            "|         2| 72| 22000|Female| France|\n",
            "|         3| 70| 24000|Female|England|\n",
            "|         4| 75|  2600|  Male|England|\n",
            "|         5| 33| 50000|  Male| France|\n",
            "|         6| 52| 35000|Female|England|\n",
            "|         7| 31|  4300|  Male|Germany|\n",
            "|         8| 37| 32000|Female| France|\n",
            "|         9| 76| 35000|  Male|Germany|\n",
            "|        10| 58| 37000|Female| France|\n",
            "|        11| 70| 25000|  Male|Germany|\n",
            "|        12| 28| 27000|Female| France|\n",
            "|        13| 21| 29000|Female|England|\n",
            "|        14| 34|  7600|  Male|England|\n",
            "|        15| 45| 55000|  Male| France|\n",
            "|        16| 32| 40000|Female|England|\n",
            "|        17| 62|  9300|  Male|Germany|\n",
            "|        18| 54| 37000|Female| France|\n",
            "|        19| 33| 40000|  Male|Germany|\n",
            "|        20| 46| 42000|Female| France|\n",
            "+----------+---+------+------+-------+\n",
            "only showing top 20 rows\n",
            "\n"
          ],
          "name": "stdout"
        }
      ]
    },
    {
      "cell_type": "markdown",
      "metadata": {
        "id": "wG_0AkuxEGQt"
      },
      "source": [
        "# count shows customer has 7K rows"
      ]
    },
    {
      "cell_type": "code",
      "metadata": {
        "id": "qc9aERzOD6rb",
        "outputId": "235682fb-0e4f-4560-866d-90f4978d5f53",
        "colab": {
          "base_uri": "https://localhost:8080/",
          "height": 34
        }
      },
      "source": [
        "customerDF.count()"
      ],
      "execution_count": 13,
      "outputs": [
        {
          "output_type": "execute_result",
          "data": {
            "text/plain": [
              "7000"
            ]
          },
          "metadata": {
            "tags": []
          },
          "execution_count": 13
        }
      ]
    },
    {
      "cell_type": "markdown",
      "metadata": {
        "id": "-1NuS3d5ER-n"
      },
      "source": [
        "# Create DF for transaxtions"
      ]
    },
    {
      "cell_type": "code",
      "metadata": {
        "id": "g-Gy0VZRD9xD"
      },
      "source": [
        "trasactionDF = spark.read.csv(\"store_transactions.csv\", header=True)"
      ],
      "execution_count": 14,
      "outputs": []
    },
    {
      "cell_type": "code",
      "metadata": {
        "id": "XMR6IQHWEinw",
        "outputId": "5b9323f6-ab6a-4704-d89a-2b952c8de14c",
        "colab": {
          "base_uri": "https://localhost:8080/",
          "height": 459
        }
      },
      "source": [
        "trasactionDF.show()"
      ],
      "execution_count": 15,
      "outputs": [
        {
          "output_type": "stream",
          "text": [
            "+----------+---------+------+----------+\n",
            "|CustomerID|ProductID|Amount|      Date|\n",
            "+----------+---------+------+----------+\n",
            "|      3427|        3|  7541|22-11-2019|\n",
            "|      4378|       14|  7271|15-12-2019|\n",
            "|      3751|       47|  4276|20-11-2019|\n",
            "|      6899|      146|  8923|22-11-2019|\n",
            "|      4561|       46|  4891|30-11-2019|\n",
            "|      2299|      143|  7545|05-12-2019|\n",
            "|       553|       43|  1147|08-12-2019|\n",
            "|      3406|      134|   245|12-12-2019|\n",
            "|      5278|       34|  8765|09-12-2019|\n",
            "|      2456|       68|  3820|30-11-2019|\n",
            "|      6963|       58|  1850|27-11-2019|\n",
            "|      4700|      140|  3948|27-11-2019|\n",
            "|      3566|       76|   401|17-12-2019|\n",
            "|      2212|       38|  4750|16-12-2019|\n",
            "|      4677|       18|  1149|18-11-2019|\n",
            "|      4295|       35|  3241|19-11-2019|\n",
            "|      4228|       91|  6405|01-12-2019|\n",
            "|      2466|       83|  2978|10-12-2019|\n",
            "|      3136|       67|  6581|28-11-2019|\n",
            "|      6563|       80|  2878|21-11-2019|\n",
            "+----------+---------+------+----------+\n",
            "only showing top 20 rows\n",
            "\n"
          ],
          "name": "stdout"
        }
      ]
    },
    {
      "cell_type": "markdown",
      "metadata": {
        "id": "9I9Y0fP8EpZx"
      },
      "source": [
        "# Transactions has over 1 millions rows"
      ]
    },
    {
      "cell_type": "code",
      "metadata": {
        "id": "2qeWghDCElmw",
        "outputId": "e5c4d8c3-1efd-4fe5-a229-9f8859156ebf",
        "colab": {
          "base_uri": "https://localhost:8080/",
          "height": 34
        }
      },
      "source": [
        "trasactionDF.count()"
      ],
      "execution_count": 16,
      "outputs": [
        {
          "output_type": "execute_result",
          "data": {
            "text/plain": [
              "1048575"
            ]
          },
          "metadata": {
            "tags": []
          },
          "execution_count": 16
        }
      ]
    },
    {
      "cell_type": "markdown",
      "metadata": {
        "id": "VDv6KHNIFAcN"
      },
      "source": [
        "# Extracting year from date field in customerDF using UDF\n"
      ]
    },
    {
      "cell_type": "code",
      "metadata": {
        "id": "FMY4XGLfEn-P"
      },
      "source": [
        "from pyspark.sql.functions import udf"
      ],
      "execution_count": 18,
      "outputs": []
    },
    {
      "cell_type": "code",
      "metadata": {
        "id": "yiqIWf3LIhRU",
        "outputId": "6b16e927-8881-42ef-c235-1c4a7713607e",
        "colab": {
          "base_uri": "https://localhost:8080/",
          "height": 459
        }
      },
      "source": [
        "trasactionDF.select(\"date\").distinct().show()"
      ],
      "execution_count": 34,
      "outputs": [
        {
          "output_type": "stream",
          "text": [
            "+----------+\n",
            "|      date|\n",
            "+----------+\n",
            "|13-12-2019|\n",
            "|18-11-2019|\n",
            "|      null|\n",
            "|17-12-2019|\n",
            "|22-11-2019|\n",
            "|06-12-2019|\n",
            "|26-11-2019|\n",
            "|27-11-2019|\n",
            "|08-12-2019|\n",
            "|12-12-2019|\n",
            "|03-12-2019|\n",
            "|09-12-2019|\n",
            "|28-11-2019|\n",
            "|16-12-2019|\n",
            "|30-11-2019|\n",
            "|20-11-2019|\n",
            "|15-12-2019|\n",
            "|23-11-2019|\n",
            "|10-12-2019|\n",
            "|24-11-2019|\n",
            "+----------+\n",
            "only showing top 20 rows\n",
            "\n"
          ],
          "name": "stdout"
        }
      ]
    },
    {
      "cell_type": "code",
      "metadata": {
        "id": "XoJAn5SnJAPt"
      },
      "source": [
        "extract_year = udf(lambda date: date.split('-')[2])"
      ],
      "execution_count": 35,
      "outputs": []
    },
    {
      "cell_type": "code",
      "metadata": {
        "id": "5eEt09VaK1Ks"
      },
      "source": [
        "trasactionDF  = trasactionDF.withColumn(\"Year\",extract_year(trasactionDF.Date))"
      ],
      "execution_count": 37,
      "outputs": []
    },
    {
      "cell_type": "code",
      "metadata": {
        "id": "dFztct2QK3bK",
        "outputId": "9a0535f8-b36e-49e1-ba22-d8365e59a174",
        "colab": {
          "base_uri": "https://localhost:8080/",
          "height": 459
        }
      },
      "source": [
        "trasactionDF.show()"
      ],
      "execution_count": 38,
      "outputs": [
        {
          "output_type": "stream",
          "text": [
            "+----------+---------+------+----------+----+\n",
            "|CustomerID|ProductID|Amount|      Date|Year|\n",
            "+----------+---------+------+----------+----+\n",
            "|      3427|        3|  7541|22-11-2019|2019|\n",
            "|      4378|       14|  7271|15-12-2019|2019|\n",
            "|      3751|       47|  4276|20-11-2019|2019|\n",
            "|      6899|      146|  8923|22-11-2019|2019|\n",
            "|      4561|       46|  4891|30-11-2019|2019|\n",
            "|      2299|      143|  7545|05-12-2019|2019|\n",
            "|       553|       43|  1147|08-12-2019|2019|\n",
            "|      3406|      134|   245|12-12-2019|2019|\n",
            "|      5278|       34|  8765|09-12-2019|2019|\n",
            "|      2456|       68|  3820|30-11-2019|2019|\n",
            "|      6963|       58|  1850|27-11-2019|2019|\n",
            "|      4700|      140|  3948|27-11-2019|2019|\n",
            "|      3566|       76|   401|17-12-2019|2019|\n",
            "|      2212|       38|  4750|16-12-2019|2019|\n",
            "|      4677|       18|  1149|18-11-2019|2019|\n",
            "|      4295|       35|  3241|19-11-2019|2019|\n",
            "|      4228|       91|  6405|01-12-2019|2019|\n",
            "|      2466|       83|  2978|10-12-2019|2019|\n",
            "|      3136|       67|  6581|28-11-2019|2019|\n",
            "|      6563|       80|  2878|21-11-2019|2019|\n",
            "+----------+---------+------+----------+----+\n",
            "only showing top 20 rows\n",
            "\n"
          ],
          "name": "stdout"
        }
      ]
    },
    {
      "cell_type": "code",
      "metadata": {
        "id": "fiSED9PQLbHg"
      },
      "source": [
        ""
      ],
      "execution_count": null,
      "outputs": []
    }
  ]
}