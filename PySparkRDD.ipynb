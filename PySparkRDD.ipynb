{
  "nbformat": 4,
  "nbformat_minor": 0,
  "metadata": {
    "colab": {
      "name": "PySparkRDD.ipynb",
      "provenance": [],
      "toc_visible": true,
      "authorship_tag": "ABX9TyN9yLCrsQTO4wuSznQ2cqz6",
      "include_colab_link": true
    },
    "kernelspec": {
      "name": "python3",
      "display_name": "Python 3"
    }
  },
  "cells": [
    {
      "cell_type": "markdown",
      "metadata": {
        "id": "view-in-github",
        "colab_type": "text"
      },
      "source": [
        "<a href=\"https://colab.research.google.com/github/roytalari/SparkPySpark/blob/main/PySparkRDD.ipynb\" target=\"_parent\"><img src=\"https://colab.research.google.com/assets/colab-badge.svg\" alt=\"Open In Colab\"/></a>"
      ]
    },
    {
      "cell_type": "markdown",
      "metadata": {
        "id": "OAKxKx9vUErG"
      },
      "source": [
        "Prepare the environment for Pyspark"
      ]
    },
    {
      "cell_type": "code",
      "metadata": {
        "id": "-46LNsMNUPio"
      },
      "source": [
        "!apt-get install openjdk-8-jdk-headless -qq > /dev/null\n",
        "!wget -q https://archive.apache.org/dist/spark/spark-2.4.3/spark-2.4.3-bin-hadoop2.6.tgz\n",
        "!tar -xvf spark-2.4.3-bin-hadoop2.6.tgz\n",
        "!pip install -q findspark\n",
        "import os\n",
        "os.environ[\"JAVA_HOME\"] = \"/usr/lib/jvm/java-8-openjdk-amd64\"\n",
        "os.environ[\"SPARK_HOME\"] = \"/content/spark-2.4.3-bin-hadoop2.6\"\n",
        "import findspark\n",
        "findspark.init()\n",
        "from pyspark.sql import SparkSession\n",
        "spark = SparkSession.builder.master(\"local[*]\").getOrCreate()"
      ],
      "execution_count": null,
      "outputs": []
    },
    {
      "cell_type": "code",
      "metadata": {
        "id": "ijnigTwjTzq8",
        "outputId": "04420e49-b4d3-4324-95e4-9cb6c3fd60a7",
        "colab": {
          "base_uri": "https://localhost:8080/",
          "height": 190
        }
      },
      "source": [
        "df = spark.createDataFrame([{\"Google\": \"Colab\",\"Spark\":\"Scala\"},{\"Google\": \"Runbook\",\"Spark\":\"PySpark\"}])\n",
        "df.show()"
      ],
      "execution_count": 6,
      "outputs": [
        {
          "output_type": "stream",
          "text": [
            "/content/spark-2.4.3-bin-hadoop2.6/python/pyspark/sql/session.py:346: UserWarning: inferring schema from dict is deprecated,please use pyspark.sql.Row instead\n",
            "  warnings.warn(\"inferring schema from dict is deprecated,\"\n"
          ],
          "name": "stderr"
        },
        {
          "output_type": "stream",
          "text": [
            "+-------+-------+\n",
            "| Google|  Spark|\n",
            "+-------+-------+\n",
            "|  Colab|  Scala|\n",
            "|Runbook|PySpark|\n",
            "+-------+-------+\n",
            "\n"
          ],
          "name": "stdout"
        }
      ]
    },
    {
      "cell_type": "markdown",
      "metadata": {
        "id": "vXV69gy5UCSy"
      },
      "source": [
        "COPY A DATA FILE TO YOUR LOCAL COLAB ENVIRONMENT"
      ]
    },
    {
      "cell_type": "code",
      "metadata": {
        "id": "leaTAAr0b4IY",
        "outputId": "c1fa1477-86a3-47d3-fde2-ed86e93ae007",
        "colab": {
          "base_uri": "https://localhost:8080/",
          "height": 224
        }
      },
      "source": [
        "!wget https://raw.githubusercontent.com/futurexskill/bigdata/master/retailstore.csv"
      ],
      "execution_count": 21,
      "outputs": [
        {
          "output_type": "stream",
          "text": [
            "--2020-10-23 18:10:14--  https://raw.githubusercontent.com/futurexskill/bigdata/master/retailstore.csv\n",
            "Resolving raw.githubusercontent.com (raw.githubusercontent.com)... 151.101.0.133, 151.101.64.133, 151.101.128.133, ...\n",
            "Connecting to raw.githubusercontent.com (raw.githubusercontent.com)|151.101.0.133|:443... connected.\n",
            "HTTP request sent, awaiting response... 200 OK\n",
            "Length: 279 [text/plain]\n",
            "Saving to: ‘retailstore.csv.1’\n",
            "\n",
            "retailstore.csv.1   100%[===================>]     279  --.-KB/s    in 0s      \n",
            "\n",
            "2020-10-23 18:10:15 (13.6 MB/s) - ‘retailstore.csv.1’ saved [279/279]\n",
            "\n"
          ],
          "name": "stdout"
        }
      ]
    },
    {
      "cell_type": "markdown",
      "metadata": {
        "id": "gJYXGCatUD_p"
      },
      "source": [
        "Local Retailstore file is in Colab environment"
      ]
    },
    {
      "cell_type": "code",
      "metadata": {
        "id": "gutFXd9XlUwF",
        "outputId": "ab096813-22ce-4b87-806c-6d93d345c145",
        "colab": {
          "base_uri": "https://localhost:8080/",
          "height": 71
        }
      },
      "source": [
        "!ls -h"
      ],
      "execution_count": 27,
      "outputs": [
        {
          "output_type": "stream",
          "text": [
            "retailstore.csv    sample_data\t\t      spark-2.4.3-bin-hadoop2.6.tgz\n",
            "retailstore.csv.1  spark-2.4.3-bin-hadoop2.6\n"
          ],
          "name": "stdout"
        }
      ]
    },
    {
      "cell_type": "markdown",
      "metadata": {
        "id": "kvd4ycg6lpGa"
      },
      "source": [
        "# Resilient Distributed Datasets(RDD)"
      ]
    },
    {
      "cell_type": "markdown",
      "metadata": {
        "id": "3VC099Hql0Kh"
      },
      "source": [
        "Import SparkContext and SparkConf"
      ]
    },
    {
      "cell_type": "code",
      "metadata": {
        "id": "xHFGRwbelW2S"
      },
      "source": [
        "from pyspark import SparkContext"
      ],
      "execution_count": 28,
      "outputs": []
    },
    {
      "cell_type": "markdown",
      "metadata": {
        "id": "4CToelsWmAmV"
      },
      "source": [
        "# Create Spark Context from Spark Session"
      ]
    },
    {
      "cell_type": "code",
      "metadata": {
        "id": "8ndTORK_l8F-"
      },
      "source": [
        "sc = spark.sparkContext"
      ],
      "execution_count": 29,
      "outputs": []
    },
    {
      "cell_type": "markdown",
      "metadata": {
        "id": "ledXJpPqmOdu"
      },
      "source": [
        "# Create a RDD from Python List"
      ]
    },
    {
      "cell_type": "code",
      "metadata": {
        "id": "1nGMan8omNld"
      },
      "source": [
        "sampleRDD = sc.parallelize([10,20,30,40,50,60])"
      ],
      "execution_count": 13,
      "outputs": []
    },
    {
      "cell_type": "code",
      "metadata": {
        "id": "m_egUWgMl-Yd",
        "outputId": "f273ec1d-774d-4d98-fbe6-a9fae2aea013",
        "colab": {
          "base_uri": "https://localhost:8080/",
          "height": 34
        }
      },
      "source": [
        "type(sampleRDD)"
      ],
      "execution_count": 14,
      "outputs": [
        {
          "output_type": "execute_result",
          "data": {
            "text/plain": [
              "pyspark.rdd.RDD"
            ]
          },
          "metadata": {
            "tags": []
          },
          "execution_count": 14
        }
      ]
    },
    {
      "cell_type": "code",
      "metadata": {
        "id": "cnPBNCa2mkRT",
        "outputId": "5f5e0614-59cf-4fb1-faba-d049a9b55dd5",
        "colab": {
          "base_uri": "https://localhost:8080/",
          "height": 34
        }
      },
      "source": [
        "sampleRDD.collect()"
      ],
      "execution_count": 15,
      "outputs": [
        {
          "output_type": "execute_result",
          "data": {
            "text/plain": [
              "[10, 20, 30, 40, 50, 60]"
            ]
          },
          "metadata": {
            "tags": []
          },
          "execution_count": 15
        }
      ]
    },
    {
      "cell_type": "markdown",
      "metadata": {
        "id": "mbur3HGdmypJ"
      },
      "source": [
        "# Read the CSV file into a RDD"
      ]
    },
    {
      "cell_type": "code",
      "metadata": {
        "id": "6lj2d7BqmwJC"
      },
      "source": [
        "customerData = sc.textFile(\"retailstore.csv.1\")"
      ],
      "execution_count": 33,
      "outputs": []
    },
    {
      "cell_type": "markdown",
      "metadata": {
        "id": "3vKmb5CRqaKo"
      },
      "source": [
        ""
      ]
    },
    {
      "cell_type": "markdown",
      "metadata": {
        "id": "-TEah4LeqCcf"
      },
      "source": [
        ""
      ]
    },
    {
      "cell_type": "code",
      "metadata": {
        "id": "hXBu8Qhlmx3O",
        "outputId": "5c247b30-4e9c-4230-f6ed-6b1ccc2383f8",
        "colab": {
          "base_uri": "https://localhost:8080/",
          "height": 34
        }
      },
      "source": [
        "type(customerData)"
      ],
      "execution_count": 34,
      "outputs": [
        {
          "output_type": "execute_result",
          "data": {
            "text/plain": [
              "pyspark.rdd.RDD"
            ]
          },
          "metadata": {
            "tags": []
          },
          "execution_count": 34
        }
      ]
    },
    {
      "cell_type": "markdown",
      "metadata": {
        "id": "n3URb3fcndEn"
      },
      "source": [
        "# Perform RDD Operations\n",
        "\n",
        "## print all records"
      ]
    },
    {
      "cell_type": "code",
      "metadata": {
        "id": "cb950CqcnaVJ",
        "outputId": "ba4c11c9-b781-4ecb-c81d-f486cf310949",
        "colab": {
          "base_uri": "https://localhost:8080/",
          "height": 204
        }
      },
      "source": [
        "customerData.collect()"
      ],
      "execution_count": 35,
      "outputs": [
        {
          "output_type": "execute_result",
          "data": {
            "text/plain": [
              "['Age,Salary,Gender,Country,Purchased',\n",
              " '18,20000,Male,Germany,N',\n",
              " '19,22000,Female,France,N',\n",
              " '20,24000,Female,England,N',\n",
              " '21,,Male,England,N',\n",
              " '22,50000,Male,France,Y',\n",
              " '23,35000,Female,England,N',\n",
              " '24,,Male,Germany,N',\n",
              " '25,32000,Female,France,Y',\n",
              " ',35000,Male,Germany,N',\n",
              " '27,37000,Female,France,N']"
            ]
          },
          "metadata": {
            "tags": []
          },
          "execution_count": 35
        }
      ]
    },
    {
      "cell_type": "markdown",
      "metadata": {
        "id": "wUTJd5u4q-lo"
      },
      "source": [
        "## Print Count"
      ]
    },
    {
      "cell_type": "code",
      "metadata": {
        "id": "smhMgzAVnuQz",
        "outputId": "c1ced73c-c82c-4f5f-90f4-c47b75294194",
        "colab": {
          "base_uri": "https://localhost:8080/",
          "height": 34
        }
      },
      "source": [
        "customerData.count()"
      ],
      "execution_count": 36,
      "outputs": [
        {
          "output_type": "execute_result",
          "data": {
            "text/plain": [
              "11"
            ]
          },
          "metadata": {
            "tags": []
          },
          "execution_count": 36
        }
      ]
    },
    {
      "cell_type": "markdown",
      "metadata": {
        "id": "9k_R-joCrDF2"
      },
      "source": [
        "## Print the first row"
      ]
    },
    {
      "cell_type": "code",
      "metadata": {
        "id": "Rbqjv1l2q6pe",
        "outputId": "75891303-3970-40bd-858c-997791ca2207",
        "colab": {
          "base_uri": "https://localhost:8080/",
          "height": 35
        }
      },
      "source": [
        "customerData.first()"
      ],
      "execution_count": 37,
      "outputs": [
        {
          "output_type": "execute_result",
          "data": {
            "application/vnd.google.colaboratory.intrinsic+json": {
              "type": "string"
            },
            "text/plain": [
              "'Age,Salary,Gender,Country,Purchased'"
            ]
          },
          "metadata": {
            "tags": []
          },
          "execution_count": 37
        }
      ]
    },
    {
      "cell_type": "markdown",
      "metadata": {
        "id": "lGT43R1PrUK0"
      },
      "source": [
        "## Fetch the first 3 rows"
      ]
    },
    {
      "cell_type": "code",
      "metadata": {
        "id": "fc6hbXhbrJQx",
        "outputId": "477692e3-5dfd-401c-d9ec-13e46d83baa1",
        "colab": {
          "base_uri": "https://localhost:8080/",
          "height": 68
        }
      },
      "source": [
        "customerData.take(3)"
      ],
      "execution_count": 38,
      "outputs": [
        {
          "output_type": "execute_result",
          "data": {
            "text/plain": [
              "['Age,Salary,Gender,Country,Purchased',\n",
              " '18,20000,Male,Germany,N',\n",
              " '19,22000,Female,France,N']"
            ]
          },
          "metadata": {
            "tags": []
          },
          "execution_count": 38
        }
      ]
    },
    {
      "cell_type": "markdown",
      "metadata": {
        "id": "HcgZd-vIrcmv"
      },
      "source": [
        "## Fetch each row "
      ]
    },
    {
      "cell_type": "code",
      "metadata": {
        "id": "GoUbmJq9rSTq",
        "outputId": "9f087f44-6d5a-4065-aaea-1fe28f46af87",
        "colab": {
          "base_uri": "https://localhost:8080/",
          "height": 204
        }
      },
      "source": [
        "for line in customerData.collect():\n",
        "  print(line)"
      ],
      "execution_count": 39,
      "outputs": [
        {
          "output_type": "stream",
          "text": [
            "Age,Salary,Gender,Country,Purchased\n",
            "18,20000,Male,Germany,N\n",
            "19,22000,Female,France,N\n",
            "20,24000,Female,England,N\n",
            "21,,Male,England,N\n",
            "22,50000,Male,France,Y\n",
            "23,35000,Female,England,N\n",
            "24,,Male,Germany,N\n",
            "25,32000,Female,France,Y\n",
            ",35000,Male,Germany,N\n",
            "27,37000,Female,France,N\n"
          ],
          "name": "stdout"
        }
      ]
    },
    {
      "cell_type": "markdown",
      "metadata": {
        "id": "006lrsW4sGky"
      },
      "source": [
        "# Spark Operations\n",
        "\n",
        "1) Transformation(produces new RDD from existing RDD)\n",
        "\n",
        "2) Action (returns the final result of RDD computation - collect, count, take)\n"
      ]
    },
    {
      "cell_type": "markdown",
      "metadata": {
        "id": "dx-CevdTskyG"
      },
      "source": [
        "# Transformation - *Map*\n",
        "\n",
        "* Map is the most basic transformation function. It can call a function or an inline lambda expression to apply on one RDD and produce another RDD\n",
        "\n",
        "* newRDD = oldrdd.map(function)\n",
        "* It acts on one element at a time and performs some operation. Resulting RDD will have same number of elements as the original RDD"
      ]
    },
    {
      "cell_type": "markdown",
      "metadata": {
        "id": "lqtjVSa4tek3"
      },
      "source": [
        "# Map\n",
        "\n",
        "Replace \"Male\" with \"M\""
      ]
    },
    {
      "cell_type": "markdown",
      "metadata": {
        "id": "5GjD167ot4ag"
      },
      "source": [
        "# Python lamda function\n",
        "\n",
        "* A lamda function is an anonymous function\n",
        "* A lamda function can take any number of arguments, but can only have one expression\n",
        "* lambda arguments: expression\n",
        "* e.g x = lambda a,b : a+b\n",
        "* Without lambda\n",
        "      def calculateSum(a,b)\n",
        "          return a+b"
      ]
    },
    {
      "cell_type": "code",
      "metadata": {
        "id": "drhF4ZzJrkbd"
      },
      "source": [
        "customerData2 = customerData.map(lambda x: x.replace(\"Male\", \"M\"))"
      ],
      "execution_count": 41,
      "outputs": []
    },
    {
      "cell_type": "code",
      "metadata": {
        "id": "0ZtGEjCgvFfU",
        "outputId": "74c94b48-91c8-438b-bcd2-898221dabdad",
        "colab": {
          "base_uri": "https://localhost:8080/",
          "height": 204
        }
      },
      "source": [
        "customerData2.collect()"
      ],
      "execution_count": 42,
      "outputs": [
        {
          "output_type": "execute_result",
          "data": {
            "text/plain": [
              "['Age,Salary,Gender,Country,Purchased',\n",
              " '18,20000,M,Germany,N',\n",
              " '19,22000,Female,France,N',\n",
              " '20,24000,Female,England,N',\n",
              " '21,,M,England,N',\n",
              " '22,50000,M,France,Y',\n",
              " '23,35000,Female,England,N',\n",
              " '24,,M,Germany,N',\n",
              " '25,32000,Female,France,Y',\n",
              " ',35000,M,Germany,N',\n",
              " '27,37000,Female,France,N']"
            ]
          },
          "metadata": {
            "tags": []
          },
          "execution_count": 42
        }
      ]
    },
    {
      "cell_type": "markdown",
      "metadata": {
        "id": "pxGOqbDuvYOt"
      },
      "source": [
        "# Transformation - Filter\n",
        "\n",
        "* It filters an RDD to select elements based on the logic on the function.\n",
        "\n",
        "* The funtion is used as a condition. It can be a simple inline lambda expression or a more complex function. \n",
        "\n",
        "* newRDD = oldrdd.filter(function)"
      ]
    },
    {
      "cell_type": "markdown",
      "metadata": {
        "id": "_Pfv960Vy3yJ"
      },
      "source": [
        "# Filter\n",
        "\n",
        "## display only females"
      ]
    },
    {
      "cell_type": "code",
      "metadata": {
        "id": "YK_2eJuFvNei"
      },
      "source": [
        "femaleCustomers=customerData.filter(lambda x: \"Female\" in x)"
      ],
      "execution_count": 43,
      "outputs": []
    },
    {
      "cell_type": "code",
      "metadata": {
        "id": "JGwtq6Q3zd2Y",
        "outputId": "7a0e2c86-c0c4-4af2-ab92-b2c4f6cb065a",
        "colab": {
          "base_uri": "https://localhost:8080/",
          "height": 102
        }
      },
      "source": [
        "femaleCustomers.collect()"
      ],
      "execution_count": 44,
      "outputs": [
        {
          "output_type": "execute_result",
          "data": {
            "text/plain": [
              "['19,22000,Female,France,N',\n",
              " '20,24000,Female,England,N',\n",
              " '23,35000,Female,England,N',\n",
              " '25,32000,Female,France,Y',\n",
              " '27,37000,Female,France,N']"
            ]
          },
          "metadata": {
            "tags": []
          },
          "execution_count": 44
        }
      ]
    },
    {
      "cell_type": "code",
      "metadata": {
        "id": "W2JBkQK0zh3o",
        "outputId": "849ddd65-0a9d-4d5c-9f14-0978374c48dc",
        "colab": {
          "base_uri": "https://localhost:8080/",
          "height": 34
        }
      },
      "source": [
        "femaleCustomers.count()"
      ],
      "execution_count": 45,
      "outputs": [
        {
          "output_type": "execute_result",
          "data": {
            "text/plain": [
              "5"
            ]
          },
          "metadata": {
            "tags": []
          },
          "execution_count": 45
        }
      ]
    },
    {
      "cell_type": "markdown",
      "metadata": {
        "id": "CNGHBck_zwBE"
      },
      "source": [
        "# Transformation - flatMap\n",
        "\n",
        "* flatMap works the same way as map but can return more elements thatn the original RDD\n",
        "\n",
        "* It is used to break up elements in the original RDD and create a new RDD.\n",
        "\n",
        "* newRDD = oldrdd.flatMap(function)"
      ]
    },
    {
      "cell_type": "markdown",
      "metadata": {
        "id": "KQ0r8VNs0O3T"
      },
      "source": [
        "# flatMap\n",
        "\n",
        "### create a new RDD by splitting each row with comma delimiter"
      ]
    },
    {
      "cell_type": "code",
      "metadata": {
        "id": "eczNceR9zsTg"
      },
      "source": [
        "words = femaleCustomers.flatMap(lambda line: line.split(\",\"))"
      ],
      "execution_count": 46,
      "outputs": []
    },
    {
      "cell_type": "code",
      "metadata": {
        "id": "laoRbbUX0zST",
        "outputId": "ad341620-3180-4a46-830a-9c2f2ff03e2c",
        "colab": {
          "base_uri": "https://localhost:8080/",
          "height": 34
        }
      },
      "source": [
        "words.count()"
      ],
      "execution_count": 47,
      "outputs": [
        {
          "output_type": "execute_result",
          "data": {
            "text/plain": [
              "25"
            ]
          },
          "metadata": {
            "tags": []
          },
          "execution_count": 47
        }
      ]
    },
    {
      "cell_type": "code",
      "metadata": {
        "id": "AaIL9ZWN04sr",
        "outputId": "9411fcc0-dbd6-44ae-f917-08d13317cb69",
        "colab": {
          "base_uri": "https://localhost:8080/",
          "height": 442
        }
      },
      "source": [
        "words.collect()"
      ],
      "execution_count": 48,
      "outputs": [
        {
          "output_type": "execute_result",
          "data": {
            "text/plain": [
              "['19',\n",
              " '22000',\n",
              " 'Female',\n",
              " 'France',\n",
              " 'N',\n",
              " '20',\n",
              " '24000',\n",
              " 'Female',\n",
              " 'England',\n",
              " 'N',\n",
              " '23',\n",
              " '35000',\n",
              " 'Female',\n",
              " 'England',\n",
              " 'N',\n",
              " '25',\n",
              " '32000',\n",
              " 'Female',\n",
              " 'France',\n",
              " 'Y',\n",
              " '27',\n",
              " '37000',\n",
              " 'Female',\n",
              " 'France',\n",
              " 'N']"
            ]
          },
          "metadata": {
            "tags": []
          },
          "execution_count": 48
        }
      ]
    },
    {
      "cell_type": "markdown",
      "metadata": {
        "id": "-O3oHGL80_6b"
      },
      "source": [
        "# Transformation - Set\n",
        "\n",
        "* Set operations are performed on two RDDs.\n",
        "\n",
        "* You can perform unions or intersections.\n",
        "\n",
        "\n",
        "\n",
        "1.   unionRDD = firstRDD.union(secondRDD)\n",
        "2.   intersectionRDD = firstRDD.intersect(secondRDD)\n",
        "\n",
        "\n"
      ]
    },
    {
      "cell_type": "markdown",
      "metadata": {
        "id": "5CTYj77a1rpC"
      },
      "source": [
        "### Set - Union & Intersect "
      ]
    },
    {
      "cell_type": "code",
      "metadata": {
        "id": "Pg-k8pF807k6"
      },
      "source": [
        "rdd1 = sc.parallelize([\"a\",\"b\",\"c\",\"d\",\"e\"])\n",
        "rdd2 = sc.parallelize([\"c\",\"e\",\"k\",\"l\"])"
      ],
      "execution_count": 65,
      "outputs": []
    },
    {
      "cell_type": "markdown",
      "metadata": {
        "id": "UnDmsT_w2SwN"
      },
      "source": [
        "#### Perform Union Operation"
      ]
    },
    {
      "cell_type": "code",
      "metadata": {
        "id": "JoPxQZny2RbX",
        "outputId": "87ed59bc-afce-4799-e9af-9d8aed3d1ef3",
        "colab": {
          "base_uri": "https://localhost:8080/",
          "height": 136
        }
      },
      "source": [
        "for unions in rdd1.union(rdd2).distinct().collect():\n",
        "    print(unions)"
      ],
      "execution_count": 66,
      "outputs": [
        {
          "output_type": "stream",
          "text": [
            "b\n",
            "c\n",
            "l\n",
            "a\n",
            "e\n",
            "d\n",
            "k\n"
          ],
          "name": "stdout"
        }
      ]
    },
    {
      "cell_type": "markdown",
      "metadata": {
        "id": "AL5uWARv3X-x"
      },
      "source": [
        "#### Perform Intersect Operation"
      ]
    },
    {
      "cell_type": "code",
      "metadata": {
        "id": "VBN846pG2sRS",
        "outputId": "549816c5-e053-4e1a-aafb-adcedd47d319",
        "colab": {
          "base_uri": "https://localhost:8080/",
          "height": 51
        }
      },
      "source": [
        "for intesects in rdd1.intersection(rdd2).distinct().collect():\n",
        "  print(intesects)"
      ],
      "execution_count": 67,
      "outputs": [
        {
          "output_type": "stream",
          "text": [
            "c\n",
            "e\n"
          ],
          "name": "stdout"
        }
      ]
    },
    {
      "cell_type": "markdown",
      "metadata": {
        "id": "CGASg8Xu6One"
      },
      "source": [
        "#### Typically transformation are combined and performed in a sequence of operations within a python function. This is because transforming one by one can be costly. "
      ]
    },
    {
      "cell_type": "code",
      "metadata": {
        "id": "y17jTynF3kVq"
      },
      "source": [
        "def transformRDD(customer):\n",
        "  words = customer.split(\",\")\n",
        "  #convert male to 0 and female to 1 \n",
        "  if words[2] == 'Male':\n",
        "    words[2] = \"0\"\n",
        "  else:\n",
        "    words[2] = \"1\"\n",
        "  #Convert N to 0 and Y to 1 for the purchased value\n",
        "  if words[4] == \"N\":\n",
        "    words[4] = \"0\"\n",
        "  else:\n",
        "    words[4] = \"1\"\n",
        "  #Convery Countty to upper case\n",
        "  words[3] = words[3].upper()\n",
        "  return \",\".join(words)\n"
      ],
      "execution_count": 94,
      "outputs": []
    },
    {
      "cell_type": "markdown",
      "metadata": {
        "id": "JHUxnRvc0-q9"
      },
      "source": [
        "#### Apply transformation using map"
      ]
    },
    {
      "cell_type": "code",
      "metadata": {
        "id": "w-yIs7JFBuNi"
      },
      "source": [
        "finaldata = customerData.map(transformRDD)"
      ],
      "execution_count": 96,
      "outputs": []
    },
    {
      "cell_type": "code",
      "metadata": {
        "id": "Yzxl48sHCARi",
        "outputId": "37330c83-558b-460b-bbd6-bad91e9aa7ab",
        "colab": {
          "base_uri": "https://localhost:8080/",
          "height": 204
        }
      },
      "source": [
        "finaldata.collect()"
      ],
      "execution_count": 97,
      "outputs": [
        {
          "output_type": "execute_result",
          "data": {
            "text/plain": [
              "['Age,Salary,1,COUNTRY,1',\n",
              " '18,20000,0,GERMANY,0',\n",
              " '19,22000,1,FRANCE,0',\n",
              " '20,24000,1,ENGLAND,0',\n",
              " '21,,0,ENGLAND,0',\n",
              " '22,50000,0,FRANCE,1',\n",
              " '23,35000,1,ENGLAND,0',\n",
              " '24,,0,GERMANY,0',\n",
              " '25,32000,1,FRANCE,1',\n",
              " ',35000,0,GERMANY,0',\n",
              " '27,37000,1,FRANCE,0']"
            ]
          },
          "metadata": {
            "tags": []
          },
          "execution_count": 97
        }
      ]
    },
    {
      "cell_type": "code",
      "metadata": {
        "id": "GDIgm-zDCC26"
      },
      "source": [
        ""
      ],
      "execution_count": 80,
      "outputs": []
    },
    {
      "cell_type": "code",
      "metadata": {
        "id": "6ZYKtQ9DCj7-",
        "outputId": "5d1fca26-ea58-453a-aaad-8cbc0ef9181e",
        "colab": {
          "base_uri": "https://localhost:8080/",
          "height": 34
        }
      },
      "source": [
        ""
      ],
      "execution_count": 90,
      "outputs": [
        {
          "output_type": "execute_result",
          "data": {
            "text/plain": [
              "['hot', 'mar', 'got']"
            ]
          },
          "metadata": {
            "tags": []
          },
          "execution_count": 90
        }
      ]
    },
    {
      "cell_type": "code",
      "metadata": {
        "id": "TpKZrUCBDcLe",
        "outputId": "037e9f8f-6cfd-423d-bdcc-c81b93147699",
        "colab": {
          "base_uri": "https://localhost:8080/",
          "height": 198
        }
      },
      "source": [
        ""
      ],
      "execution_count": 86,
      "outputs": [
        {
          "output_type": "error",
          "ename": "AttributeError",
          "evalue": "ignored",
          "traceback": [
            "\u001b[0;31m---------------------------------------------------------------------------\u001b[0m",
            "\u001b[0;31mAttributeError\u001b[0m                            Traceback (most recent call last)",
            "\u001b[0;32m<ipython-input-86-3d2bfc643bf8>\u001b[0m in \u001b[0;36m<module>\u001b[0;34m()\u001b[0m\n\u001b[0;32m----> 1\u001b[0;31m \u001b[0mx\u001b[0m  \u001b[0;34m=\u001b[0m \u001b[0mcustomerData\u001b[0m\u001b[0;34m.\u001b[0m\u001b[0mflatmap\u001b[0m\u001b[0;34m(\u001b[0m\u001b[0;34m)\u001b[0m\u001b[0;34m\u001b[0m\u001b[0;34m\u001b[0m\u001b[0m\n\u001b[0m",
            "\u001b[0;31mAttributeError\u001b[0m: 'RDD' object has no attribute 'flatmap'"
          ]
        }
      ]
    },
    {
      "cell_type": "code",
      "metadata": {
        "id": "YiEYdiPOEA9d",
        "outputId": "0e62b639-cad4-4203-8232-1ad70dff6ceb",
        "colab": {
          "base_uri": "https://localhost:8080/",
          "height": 68
        }
      },
      "source": [
        "x"
      ],
      "execution_count": 85,
      "outputs": [
        {
          "output_type": "execute_result",
          "data": {
            "text/plain": [
              "['Age,Salary,Gender,Country,Purchased',\n",
              " '18,20000,Male,Germany,N',\n",
              " '19,22000,Female,France,N']"
            ]
          },
          "metadata": {
            "tags": []
          },
          "execution_count": 85
        }
      ]
    },
    {
      "cell_type": "code",
      "metadata": {
        "id": "hhPus0BdEW9F"
      },
      "source": [
        ""
      ],
      "execution_count": null,
      "outputs": []
    }
  ]
}